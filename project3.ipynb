{
 "cells": [
  {
   "cell_type": "code",
   "execution_count": null,
   "metadata": {},
   "outputs": [],
   "source": [
    "'''\n",
    "【项目03】  知乎数据清洗整理和结论研究\n",
    "\n",
    "作业要求：\n",
    "1、数据清洗 - 去除空值\n",
    "要求：创建函数\n",
    "提示：fillna方法填充缺失数据，注意inplace参数\n",
    "\n",
    "2、问题1 知友全国地域分布情况，分析出TOP20\n",
    "要求：\n",
    "① 按照地域统计 知友数量、知友密度（知友数量/城市常住人口），不要求创建函数\n",
    "② 知友数量，知友密度，标准化处理，取值0-100，要求创建函数\n",
    "③ 通过多系列柱状图，做图表可视化\n",
    "提示：\n",
    "① 标准化计算方法 = (X - Xmin) / (Xmax - Xmin)\n",
    "② 可自行设置图表风格\n",
    "\n",
    "3、问题2 知友全国地域分布情况，分析出TOP20\n",
    "要求：\n",
    "① 按照学校（教育经历字段） 统计粉丝数（‘关注者’）、关注人数（‘关注’），并筛选出粉丝数TOP20的学校，不要求创建函数\n",
    "② 通过散点图 → 横坐标为关注人数，纵坐标为粉丝数，做图表可视化\n",
    "③ 散点图中，标记出平均关注人数（x参考线），平均粉丝数（y参考线）\n",
    "提示：\n",
    "① 可自行设置图表风格\n",
    "\n",
    "'''\n",
    "\n",
    "import os \n",
    "import pandas as pd\n",
    "import numpy as np\n",
    "os.chdir(\"C:/Users/CT/PycharmProjects/jupyter/data_analysor/project3/\")\n",
    "os.listdir()\n",
    "\n",
    "#导入数据\n",
    "#此处必须指定engine为python，否则默认为C engine，会导致错误\n",
    "sixpu_dat=pd.read_csv(\"./六普常住人口数.csv\",engine='python')\n",
    "zhihu_dat=pd.read_csv(\"./知乎数据_201701.csv\",engine='python')\n",
    "\n",
    "sixpu_dat\n",
    "\n",
    "zhihu_dat.head()\n",
    "\n",
    "print(zhihu_dat.loc[0,'个人简介'],type(zhihu_dat.loc[0,'个人简介']))\n",
    "\n",
    "'''\n",
    "1、数据清洗 - 去除空值\n",
    "要求：创建函数\n",
    "提示：fillna方法填充缺失数据，注意inplace参数\n",
    "'''\n",
    "#此处需要针对不同类型的列采用不同的空值填充策略\n",
    "def removeNaN(df):\n",
    "    for i in df.columns:\n",
    "        if(df[i].dtype=='object'):\n",
    "            df[i].fillna('缺失数据',axis=0,inplace=True)\n",
    "        else:\n",
    "            df[i].fillna(0,axis=0,inplace=True)\n",
    "    return df\n",
    "\n",
    "new_zhihu_dat=removeNaN(zhihu_dat)\n",
    "new_zhihu_dat.head(10)\n",
    "\n",
    "'''\n",
    "2、问题1 知友全国地域分布情况，分析出TOP20\n",
    "要求：\n",
    "① 按照地域统计 知友数量、知友密度（知友数量/城市常住人口），不要求创建函数\n",
    "② 知友数量，知友密度，标准化处理，取值0-100，要求创建函数\n",
    "③ 通过多系列柱状图，做图表可视化\n",
    "提示：\n",
    "① 标准化计算方法 = (X - Xmin) / (Xmax - Xmin)\n",
    "② 可自行设置图表风格\n",
    "'''\n",
    "new_zhihu_dat['居住地'].unique()\n",
    "\n",
    "#按照地域统计 知友数量/知友密度\n",
    "df_city=new_zhihu_dat.groupby('居住地').count()\n",
    "print(df_city.head(10))\n",
    "sixpu_dat['city']=sixpu_dat['地区'].str[:-1]\n",
    "sixpu_dat.head()\n",
    "\n",
    "merge_dat=pd.merge(df_city,sixpu_dat,left_index=True,right_on='city')[['_id','city','常住人口']]\n",
    "merge_dat\n",
    "\n",
    "#求知友数量和知友密度\n",
    "merge_dat['知友密度']=merge_dat['_id']/merge_dat['常住人口']\n",
    "merge_dat.sort_values(by='_id',ascending=False)\n",
    "\n",
    "#归一化处理\n",
    "\n",
    "def scaleProcess(df,*cols):\n",
    "    colnames=[]\n",
    "    for i in cols:\n",
    "        df[i+'_nor']=(df[i]-min(df[i]))/(max(df[i])-min(df[i]))*100\n",
    "        colnames.append(i+'_nor')\n",
    "    return (df,colnames)\n",
    "\n",
    "result=scaleProcess(merge_dat,'_id','知友密度')\n",
    "result_df=result[0]\n",
    "#按知友数量top前20\n",
    "top20_id_dat=result[0].sort_values(result[1][0],ascending=False)\n",
    "top20_dense_dat=result[0].sort_values(result[1][1],ascending=False)\n",
    "\n",
    "df1=top20_id_dat[['city','_id_nor']][:20]\n",
    "df2=top20_dense_dat[['city','知友密度_nor']][:20]\n",
    "print(top20_id_dat[['city','_id_nor']][:5])\n",
    "print(top20_dense_dat[['city','知友密度_nor']][:5])\n",
    "\n",
    "#构建多系列柱状图\n",
    "import matplotlib.pyplot as plt\n",
    "#解决标签乱码问题\n",
    "plt.rcParams['font.sans-serif']=['SimHei']\n",
    "plt.rcParams['axes.unicode_minus']=False\n",
    "\n",
    "fig1=plt.figure(num=1,figsize=(10,5))\n",
    "plt.bar(range(20),df1['_id_nor'],color='red',tick_label=df1['city'],alpha=0.6)\n",
    "for i,j in zip(range(20),df1['_id_nor']):\n",
    "    plt.text(i-0.3,1,'%.0f'%j,color='blue')\n",
    "plt.title(\"知友数量top20\")\n",
    "\n",
    "fig2=plt.figure(num=2,figsize=(10,5))\n",
    "plt.bar(range(20),df2['知友密度_nor'],color='blue',tick_label=df2['city'],alpha=0.6)\n",
    "for i,j in zip(range(20),df2['知友密度_nor']):\n",
    "    plt.text(i-0.3,1,'%.0f'%j,color='black')\n",
    "plt.title(\"知友密度top20\")\n",
    "\n",
    "'''\n",
    "3、问题2 知友全国地域分布情况，分析出TOP20\n",
    "要求：\n",
    "① 按照学校（教育经历字段） 统计粉丝数（‘关注者’）、关注人数（‘关注’），并筛选出粉丝数TOP20的学校，不要求创建函数\n",
    "② 通过散点图 → 横坐标为关注人数，纵坐标为粉丝数，做图表可视化\n",
    "③ 散点图中，标记出平均关注人数（x参考线），平均粉丝数（y参考线）\n",
    "提示：\n",
    "① 可自行设置图表风格\n",
    "\n",
    "'''\n",
    "\n",
    "#按照学校统计粉丝数\n",
    "df_area=zhihu_dat[['教育经历','关注者','关注']]\n",
    "df_area.columns=['学校','粉丝数','关注人数']\n",
    "df_area.head(10)\n",
    "\n",
    "df_area.groupby('学校').sum()[['粉丝数','关注人数']].sort_values(by='粉丝数',ascending=False)[:25]\n",
    "q_data=df_area.groupby('学校').sum()[['粉丝数','关注人数']].drop(['缺失数据','为往圣继绝学','医学','我的老師，是山川和大地','本科']).sort_values(by='粉丝数',ascending=False)[:20]\n",
    "q_data\n",
    "\n",
    "x,y=q_data['粉丝数'],q_data['关注人数']\n",
    "plt.figure(figsize=(12,5))\n",
    "plt.scatter(x,y,marker='.',s=y/100,cmap='Reds',c=x,label='学校',)\n",
    "\n",
    "cared,care=q_data['粉丝数'].mean(),q_data['关注人数'].mean(),\n",
    "plt.axhline(care,label='平均关注人数%d人'%care,color='red')\n",
    "plt.axvline(cared,label='平均粉丝数%d人'%cared,color='blue')\n",
    "plt.legend()\n",
    "\n",
    "for i,j,n in zip(x,y,q_data.index):\n",
    "    plt.text(i+500,j,n)\n",
    "\n"
   ]
  },
  {
   "cell_type": "code",
   "execution_count": null,
   "metadata": {},
   "outputs": [],
   "source": []
  },
  {
   "cell_type": "code",
   "execution_count": null,
   "metadata": {},
   "outputs": [],
   "source": []
  },
  {
   "cell_type": "code",
   "execution_count": null,
   "metadata": {},
   "outputs": [],
   "source": []
  },
  {
   "cell_type": "code",
   "execution_count": null,
   "metadata": {},
   "outputs": [],
   "source": []
  },
  {
   "cell_type": "code",
   "execution_count": null,
   "metadata": {},
   "outputs": [],
   "source": []
  },
  {
   "cell_type": "code",
   "execution_count": null,
   "metadata": {},
   "outputs": [],
   "source": []
  },
  {
   "cell_type": "code",
   "execution_count": null,
   "metadata": {},
   "outputs": [],
   "source": []
  },
  {
   "cell_type": "code",
   "execution_count": null,
   "metadata": {},
   "outputs": [],
   "source": []
  },
  {
   "cell_type": "code",
   "execution_count": null,
   "metadata": {},
   "outputs": [],
   "source": []
  },
  {
   "cell_type": "code",
   "execution_count": null,
   "metadata": {},
   "outputs": [],
   "source": []
  },
  {
   "cell_type": "code",
   "execution_count": null,
   "metadata": {},
   "outputs": [],
   "source": []
  },
  {
   "cell_type": "code",
   "execution_count": null,
   "metadata": {},
   "outputs": [],
   "source": []
  },
  {
   "cell_type": "code",
   "execution_count": null,
   "metadata": {},
   "outputs": [],
   "source": []
  },
  {
   "cell_type": "code",
   "execution_count": null,
   "metadata": {},
   "outputs": [],
   "source": []
  },
  {
   "cell_type": "code",
   "execution_count": null,
   "metadata": {},
   "outputs": [],
   "source": []
  },
  {
   "cell_type": "code",
   "execution_count": null,
   "metadata": {},
   "outputs": [],
   "source": []
  },
  {
   "cell_type": "code",
   "execution_count": null,
   "metadata": {},
   "outputs": [],
   "source": []
  },
  {
   "cell_type": "code",
   "execution_count": null,
   "metadata": {},
   "outputs": [],
   "source": []
  },
  {
   "cell_type": "code",
   "execution_count": null,
   "metadata": {},
   "outputs": [],
   "source": []
  },
  {
   "cell_type": "code",
   "execution_count": null,
   "metadata": {},
   "outputs": [],
   "source": []
  },
  {
   "cell_type": "code",
   "execution_count": null,
   "metadata": {},
   "outputs": [],
   "source": []
  },
  {
   "cell_type": "code",
   "execution_count": null,
   "metadata": {},
   "outputs": [],
   "source": []
  },
  {
   "cell_type": "code",
   "execution_count": null,
   "metadata": {},
   "outputs": [],
   "source": []
  },
  {
   "cell_type": "code",
   "execution_count": null,
   "metadata": {},
   "outputs": [],
   "source": []
  },
  {
   "cell_type": "code",
   "execution_count": null,
   "metadata": {},
   "outputs": [],
   "source": []
  },
  {
   "cell_type": "code",
   "execution_count": null,
   "metadata": {},
   "outputs": [],
   "source": []
  },
  {
   "cell_type": "code",
   "execution_count": null,
   "metadata": {},
   "outputs": [],
   "source": []
  },
  {
   "cell_type": "code",
   "execution_count": null,
   "metadata": {},
   "outputs": [],
   "source": []
  },
  {
   "cell_type": "code",
   "execution_count": null,
   "metadata": {},
   "outputs": [],
   "source": []
  },
  {
   "cell_type": "code",
   "execution_count": null,
   "metadata": {},
   "outputs": [],
   "source": []
  },
  {
   "cell_type": "code",
   "execution_count": null,
   "metadata": {},
   "outputs": [],
   "source": []
  },
  {
   "cell_type": "code",
   "execution_count": null,
   "metadata": {},
   "outputs": [],
   "source": []
  },
  {
   "cell_type": "code",
   "execution_count": null,
   "metadata": {},
   "outputs": [],
   "source": []
  },
  {
   "cell_type": "code",
   "execution_count": null,
   "metadata": {},
   "outputs": [],
   "source": []
  },
  {
   "cell_type": "code",
   "execution_count": null,
   "metadata": {},
   "outputs": [],
   "source": []
  },
  {
   "cell_type": "code",
   "execution_count": null,
   "metadata": {},
   "outputs": [],
   "source": []
  },
  {
   "cell_type": "code",
   "execution_count": null,
   "metadata": {},
   "outputs": [],
   "source": []
  },
  {
   "cell_type": "code",
   "execution_count": null,
   "metadata": {},
   "outputs": [],
   "source": []
  },
  {
   "cell_type": "code",
   "execution_count": null,
   "metadata": {},
   "outputs": [],
   "source": []
  },
  {
   "cell_type": "code",
   "execution_count": null,
   "metadata": {},
   "outputs": [],
   "source": []
  },
  {
   "cell_type": "code",
   "execution_count": null,
   "metadata": {},
   "outputs": [],
   "source": []
  },
  {
   "cell_type": "code",
   "execution_count": null,
   "metadata": {},
   "outputs": [],
   "source": []
  },
  {
   "cell_type": "code",
   "execution_count": null,
   "metadata": {},
   "outputs": [],
   "source": []
  },
  {
   "cell_type": "code",
   "execution_count": null,
   "metadata": {},
   "outputs": [],
   "source": []
  },
  {
   "cell_type": "code",
   "execution_count": null,
   "metadata": {},
   "outputs": [],
   "source": []
  },
  {
   "cell_type": "code",
   "execution_count": null,
   "metadata": {},
   "outputs": [],
   "source": []
  },
  {
   "cell_type": "code",
   "execution_count": null,
   "metadata": {},
   "outputs": [],
   "source": []
  },
  {
   "cell_type": "code",
   "execution_count": null,
   "metadata": {},
   "outputs": [],
   "source": []
  },
  {
   "cell_type": "code",
   "execution_count": null,
   "metadata": {},
   "outputs": [],
   "source": []
  },
  {
   "cell_type": "code",
   "execution_count": null,
   "metadata": {},
   "outputs": [],
   "source": []
  },
  {
   "cell_type": "code",
   "execution_count": null,
   "metadata": {},
   "outputs": [],
   "source": []
  },
  {
   "cell_type": "code",
   "execution_count": null,
   "metadata": {},
   "outputs": [],
   "source": []
  },
  {
   "cell_type": "code",
   "execution_count": null,
   "metadata": {},
   "outputs": [],
   "source": []
  },
  {
   "cell_type": "code",
   "execution_count": null,
   "metadata": {},
   "outputs": [],
   "source": []
  },
  {
   "cell_type": "code",
   "execution_count": null,
   "metadata": {},
   "outputs": [],
   "source": []
  },
  {
   "cell_type": "code",
   "execution_count": null,
   "metadata": {},
   "outputs": [],
   "source": []
  },
  {
   "cell_type": "code",
   "execution_count": null,
   "metadata": {},
   "outputs": [],
   "source": []
  },
  {
   "cell_type": "code",
   "execution_count": null,
   "metadata": {},
   "outputs": [],
   "source": []
  },
  {
   "cell_type": "code",
   "execution_count": null,
   "metadata": {},
   "outputs": [],
   "source": []
  },
  {
   "cell_type": "code",
   "execution_count": null,
   "metadata": {},
   "outputs": [],
   "source": []
  },
  {
   "cell_type": "code",
   "execution_count": null,
   "metadata": {},
   "outputs": [],
   "source": []
  },
  {
   "cell_type": "code",
   "execution_count": null,
   "metadata": {},
   "outputs": [],
   "source": []
  },
  {
   "cell_type": "code",
   "execution_count": null,
   "metadata": {},
   "outputs": [],
   "source": []
  },
  {
   "cell_type": "code",
   "execution_count": null,
   "metadata": {},
   "outputs": [],
   "source": []
  },
  {
   "cell_type": "code",
   "execution_count": null,
   "metadata": {},
   "outputs": [],
   "source": []
  },
  {
   "cell_type": "code",
   "execution_count": null,
   "metadata": {},
   "outputs": [],
   "source": []
  },
  {
   "cell_type": "code",
   "execution_count": null,
   "metadata": {},
   "outputs": [],
   "source": []
  },
  {
   "cell_type": "code",
   "execution_count": null,
   "metadata": {},
   "outputs": [],
   "source": []
  },
  {
   "cell_type": "code",
   "execution_count": null,
   "metadata": {},
   "outputs": [],
   "source": []
  },
  {
   "cell_type": "code",
   "execution_count": null,
   "metadata": {},
   "outputs": [],
   "source": []
  },
  {
   "cell_type": "code",
   "execution_count": null,
   "metadata": {},
   "outputs": [],
   "source": []
  },
  {
   "cell_type": "code",
   "execution_count": null,
   "metadata": {},
   "outputs": [],
   "source": []
  },
  {
   "cell_type": "code",
   "execution_count": null,
   "metadata": {},
   "outputs": [],
   "source": []
  },
  {
   "cell_type": "code",
   "execution_count": null,
   "metadata": {},
   "outputs": [],
   "source": []
  },
  {
   "cell_type": "code",
   "execution_count": null,
   "metadata": {},
   "outputs": [],
   "source": []
  },
  {
   "cell_type": "code",
   "execution_count": null,
   "metadata": {},
   "outputs": [],
   "source": []
  },
  {
   "cell_type": "code",
   "execution_count": null,
   "metadata": {},
   "outputs": [],
   "source": []
  },
  {
   "cell_type": "code",
   "execution_count": null,
   "metadata": {},
   "outputs": [],
   "source": []
  },
  {
   "cell_type": "code",
   "execution_count": null,
   "metadata": {},
   "outputs": [],
   "source": []
  },
  {
   "cell_type": "code",
   "execution_count": null,
   "metadata": {},
   "outputs": [],
   "source": []
  },
  {
   "cell_type": "code",
   "execution_count": null,
   "metadata": {},
   "outputs": [],
   "source": []
  },
  {
   "cell_type": "code",
   "execution_count": null,
   "metadata": {},
   "outputs": [],
   "source": []
  },
  {
   "cell_type": "code",
   "execution_count": null,
   "metadata": {},
   "outputs": [],
   "source": []
  },
  {
   "cell_type": "code",
   "execution_count": null,
   "metadata": {},
   "outputs": [],
   "source": []
  },
  {
   "cell_type": "code",
   "execution_count": null,
   "metadata": {},
   "outputs": [],
   "source": []
  },
  {
   "cell_type": "code",
   "execution_count": null,
   "metadata": {},
   "outputs": [],
   "source": []
  },
  {
   "cell_type": "code",
   "execution_count": null,
   "metadata": {},
   "outputs": [],
   "source": []
  },
  {
   "cell_type": "code",
   "execution_count": null,
   "metadata": {},
   "outputs": [],
   "source": []
  },
  {
   "cell_type": "code",
   "execution_count": null,
   "metadata": {},
   "outputs": [],
   "source": []
  },
  {
   "cell_type": "code",
   "execution_count": null,
   "metadata": {},
   "outputs": [],
   "source": []
  },
  {
   "cell_type": "code",
   "execution_count": null,
   "metadata": {},
   "outputs": [],
   "source": []
  },
  {
   "cell_type": "code",
   "execution_count": null,
   "metadata": {},
   "outputs": [],
   "source": []
  },
  {
   "cell_type": "code",
   "execution_count": null,
   "metadata": {},
   "outputs": [],
   "source": []
  },
  {
   "cell_type": "code",
   "execution_count": null,
   "metadata": {},
   "outputs": [],
   "source": []
  },
  {
   "cell_type": "code",
   "execution_count": null,
   "metadata": {},
   "outputs": [],
   "source": []
  },
  {
   "cell_type": "code",
   "execution_count": null,
   "metadata": {},
   "outputs": [],
   "source": []
  },
  {
   "cell_type": "code",
   "execution_count": null,
   "metadata": {},
   "outputs": [],
   "source": []
  },
  {
   "cell_type": "code",
   "execution_count": null,
   "metadata": {},
   "outputs": [],
   "source": []
  },
  {
   "cell_type": "code",
   "execution_count": null,
   "metadata": {},
   "outputs": [],
   "source": []
  },
  {
   "cell_type": "code",
   "execution_count": null,
   "metadata": {},
   "outputs": [],
   "source": []
  },
  {
   "cell_type": "code",
   "execution_count": null,
   "metadata": {},
   "outputs": [],
   "source": []
  },
  {
   "cell_type": "code",
   "execution_count": null,
   "metadata": {},
   "outputs": [],
   "source": []
  },
  {
   "cell_type": "code",
   "execution_count": null,
   "metadata": {},
   "outputs": [],
   "source": []
  },
  {
   "cell_type": "code",
   "execution_count": null,
   "metadata": {},
   "outputs": [],
   "source": []
  },
  {
   "cell_type": "code",
   "execution_count": null,
   "metadata": {},
   "outputs": [],
   "source": []
  },
  {
   "cell_type": "code",
   "execution_count": null,
   "metadata": {},
   "outputs": [],
   "source": []
  },
  {
   "cell_type": "code",
   "execution_count": null,
   "metadata": {},
   "outputs": [],
   "source": []
  },
  {
   "cell_type": "code",
   "execution_count": null,
   "metadata": {},
   "outputs": [],
   "source": []
  },
  {
   "cell_type": "code",
   "execution_count": null,
   "metadata": {},
   "outputs": [],
   "source": []
  }
 ],
 "metadata": {
  "anaconda-cloud": {},
  "kernelspec": {
   "display_name": "Python 3",
   "language": "python",
   "name": "python3"
  },
  "language_info": {
   "codemirror_mode": {
    "name": "ipython",
    "version": 3
   },
   "file_extension": ".py",
   "mimetype": "text/x-python",
   "name": "python",
   "nbconvert_exporter": "python",
   "pygments_lexer": "ipython3",
   "version": "3.6.3"
  }
 },
 "nbformat": 4,
 "nbformat_minor": 1
}
